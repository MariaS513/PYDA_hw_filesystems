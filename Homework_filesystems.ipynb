{
 "cells": [
  {
   "cell_type": "markdown",
   "metadata": {},
   "source": [
    "# Домашнее задание"
   ]
  },
  {
   "cell_type": "markdown",
   "metadata": {},
   "source": [
    "1.Переведите содержимое файла purchase_log.txt в словарь purchases вида:\n",
    "{'1840e0b9d4': 'Продукты', ...}\n",
    "\n",
    "\n",
    "2.Для каждого user_id в файле visit_log.csv добавьте третий столбец с категорией покупки (если покупка была).\n",
    "\n",
    "\n",
    "3.Запишите в файл funnel.csv визиты из файла visit_log.csv, в которых были покупки с указанием категории.\n",
    "\n",
    "\n",
    "Учтите условия на данные:\n",
    "•содержимое purchase_log.txt помещается в оперативную память компьютера\n",
    "•содержимое visit_log.csv - нет; используйте только построчную обработку этого файла\n"
   ]
  },
  {
   "cell_type": "markdown",
   "metadata": {},
   "source": [
    "### 1. Переведите содержимое файла purchase_log.txt в словарь purchases вида:{'1840e0b9d4': 'Продукты', ...}"
   ]
  },
  {
   "cell_type": "code",
   "execution_count": 42,
   "metadata": {},
   "outputs": [],
   "source": [
    "import json"
   ]
  },
  {
   "cell_type": "code",
   "execution_count": 43,
   "metadata": {},
   "outputs": [],
   "source": [
    "f = open('purchase_log.txt', encoding = 'utf8')\n",
    "new_dict = {}\n",
    "\n",
    "for x in f:\n",
    "    x = json.loads(x)\n",
    "    new_dict[x['user_id']] = x['category']"
   ]
  },
  {
   "cell_type": "markdown",
   "metadata": {},
   "source": [
    "### 2.Для каждого user_id в файле visit_log.csv добавьте третий столбец с категорией покупки (если покупка была)."
   ]
  },
  {
   "cell_type": "code",
   "execution_count": 44,
   "metadata": {},
   "outputs": [],
   "source": [
    "f = open('visit_log.csv')\n",
    "d = len(f.readlines()) - 1"
   ]
  },
  {
   "cell_type": "code",
   "execution_count": 45,
   "metadata": {},
   "outputs": [
    {
     "name": "stdout",
     "output_type": "stream",
     "text": [
      "199999\n"
     ]
    }
   ],
   "source": [
    "print(d)"
   ]
  },
  {
   "cell_type": "code",
   "execution_count": 46,
   "metadata": {},
   "outputs": [],
   "source": [
    "content_list = []\n",
    "\n",
    "f = open('visit_log.csv')\n",
    "\n",
    "# Adding header to the table\n",
    "x = f.readline()\n",
    "x = x.strip('\\n').split(',')\n",
    "x = f'{x[0]},{x[1]},category\\n'\n",
    "content_list.append(x)\n",
    "\n",
    "# Adding category to lines\n",
    "for i in range(d):\n",
    "    x = f.readline()\n",
    "    x = x.strip('\\n').split(',')\n",
    "    x = f'{x[0]},{x[1]},{new_dict.get(x[0])}\\n'\n",
    "    content_list.append(x)"
   ]
  },
  {
   "cell_type": "code",
   "execution_count": 47,
   "metadata": {},
   "outputs": [],
   "source": [
    "with open('visit_log.csv', 'w') as f:\n",
    "     for i in range(d + 1):\n",
    "        f.write(content_list[i])        "
   ]
  },
  {
   "cell_type": "markdown",
   "metadata": {},
   "source": [
    "### 3.Запишите в файл funnel.csv визиты из файла visit_log.csv, в которых были покупки с указанием категории."
   ]
  },
  {
   "cell_type": "code",
   "execution_count": 48,
   "metadata": {},
   "outputs": [],
   "source": [
    "f = open('visit_log.csv')\n",
    "d = len(f.readlines())"
   ]
  },
  {
   "cell_type": "code",
   "execution_count": 49,
   "metadata": {},
   "outputs": [],
   "source": [
    "f = open('visit_log.csv')\n",
    "funnel = []\n",
    "\n",
    "for i in range(d):\n",
    "    x = f.readline()\n",
    "    a = x.split(',')\n",
    "    if a[2] != 'None\\n':\n",
    "        funnel.append(x)"
   ]
  },
  {
   "cell_type": "code",
   "execution_count": 50,
   "metadata": {},
   "outputs": [],
   "source": [
    "with open('funnel.csv', 'w') as f:\n",
    "    for i in range(len(funnel)):\n",
    "        f.write(funnel[i])"
   ]
  },
  {
   "cell_type": "code",
   "execution_count": null,
   "metadata": {},
   "outputs": [],
   "source": []
  }
 ],
 "metadata": {
  "kernelspec": {
   "display_name": "Python 3",
   "language": "python",
   "name": "python3"
  },
  "language_info": {
   "codemirror_mode": {
    "name": "ipython",
    "version": 3
   },
   "file_extension": ".py",
   "mimetype": "text/x-python",
   "name": "python",
   "nbconvert_exporter": "python",
   "pygments_lexer": "ipython3",
   "version": "3.7.4"
  }
 },
 "nbformat": 4,
 "nbformat_minor": 2
}
